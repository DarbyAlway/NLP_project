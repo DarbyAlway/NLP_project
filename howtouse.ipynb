{
 "cells": [
  {
   "cell_type": "code",
   "execution_count": 2,
   "metadata": {},
   "outputs": [],
   "source": [
    "from transformers import AutoModelForTokenClassification, AutoTokenizer\n",
    "import torch\n",
    "\n",
    "# Define the model path (where you saved it using trainer.save_model)\n",
    "model_path = \"ner_model\"\n",
    "\n",
    "# Load the model and tokenizer\n",
    "model = AutoModelForTokenClassification.from_pretrained(model_path)\n",
    "tokenizer = AutoTokenizer.from_pretrained(model_path)\n",
    "\n",
    "# Force the model to run on CPU\n",
    "device = torch.device(\"cpu\")\n",
    "model.to(device)\n",
    "model.eval()  # Set to evaluation mode\n",
    "\n",
    "# Read CoNLL-formatted data\n",
    "def read_conll_file(file_path):\n",
    "    with open(file_path, \"r\") as f:\n",
    "        content = f.read().strip()\n",
    "        sentences = content.split(\"\\n\\n\")\n",
    "        data = []\n",
    "        for sentence in sentences:\n",
    "            tokens = sentence.split(\"\\n\")\n",
    "            token_data = []\n",
    "            for token in tokens:\n",
    "                token_data.append(token.split())\n",
    "            data.append(token_data)\n",
    "    return data\n",
    "\n",
    "train_data = read_conll_file('resource/eng.train')\n",
    "\n",
    "label_list = sorted(list(set([token_data[3] for sentence in train_data for token_data in sentence])))\n",
    "label_map = {label: i for i, label in enumerate(label_list)}\n",
    "\n",
    "def extract_named_entities(sentence):\n",
    "    # Tokenize input sentence\n",
    "    tokenized_input = tokenizer(sentence, return_tensors=\"pt\", truncation=True).to(model.device)\n",
    "\n",
    "    # Get model outputs\n",
    "    outputs = model(**tokenized_input)\n",
    "\n",
    "    # Get predicted labels\n",
    "    predicted_labels = outputs.logits.argmax(-1)[0].tolist()\n",
    "    \n",
    "    # Decode tokens\n",
    "    tokens = tokenizer.convert_ids_to_tokens(tokenized_input[\"input_ids\"][0])\n",
    "    \n",
    "    # Map predicted labels to their actual label names\n",
    "    predicted_entities = [(token, label_list[label]) for token, label in zip(tokens, predicted_labels)]\n",
    "\n",
    "    return predicted_entities\n",
    "\n",
    "# Example \n"
   ]
  },
  {
   "cell_type": "code",
   "execution_count": 3,
   "metadata": {},
   "outputs": [
    {
     "name": "stdout",
     "output_type": "stream",
     "text": [
      "Named Entities - Example 1: [('[CLS]', 'O'), ('Michael', 'B-PER'), ('graduated', 'O'), ('from', 'O'), ('MIT', 'B-ORG'), ('in', 'O'), ('2010', 'O'), ('.', 'O'), ('The', 'O'), ('MIT', 'B-ORG'), ('university', 'O'), ('is', 'O'), ('in', 'O'), ('Paris', 'B-LOC'), ('and', 'O'), ('USA', 'B-LOC'), ('[SEP]', 'O')]\n"
     ]
    }
   ],
   "source": [
    "sentence = \"Michael graduated from MIT in 2010. The MIT university is in Paris and USA\"\n",
    "named_entities = extract_named_entities(sentence)\n",
    "print(\"Named Entities - Example 1:\", named_entities)"
   ]
  },
  {
   "cell_type": "code",
   "execution_count": null,
   "metadata": {},
   "outputs": [],
   "source": []
  }
 ],
 "metadata": {
  "kernelspec": {
   "display_name": "ner_env",
   "language": "python",
   "name": "python3"
  },
  "language_info": {
   "codemirror_mode": {
    "name": "ipython",
    "version": 3
   },
   "file_extension": ".py",
   "mimetype": "text/x-python",
   "name": "python",
   "nbconvert_exporter": "python",
   "pygments_lexer": "ipython3",
   "version": "3.10.16"
  }
 },
 "nbformat": 4,
 "nbformat_minor": 2
}
