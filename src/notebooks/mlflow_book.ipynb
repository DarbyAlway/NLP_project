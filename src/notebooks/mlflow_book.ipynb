{
 "cells": [
  {
   "cell_type": "markdown",
   "metadata": {},
   "source": [
    "\n",
    "## Topics\n",
    "\n",
    "    Starting an MLflow Tracking Server (Optionally) and connecting to a Tracking Server\n",
    "\n",
    "    Exploring the MlflowClient API (briefly)\n",
    "\n",
    "    Understanding the Default Experiment\n",
    "\n",
    "    Searching for Experiments with the MLflow client API\n",
    "\n",
    "    Understanding the uses of tags and how to leverage them for model organization\n",
    "\n",
    "    Creating an Experiment that will contain our run (and our model)\n",
    "\n",
    "    Learning how to log metrics, parameters, and a model artifact to a run\n",
    "\n",
    "    Viewing our Experiment and our first run within the MLflow UI\n"
   ]
  },
  {
   "cell_type": "markdown",
   "metadata": {
    "vscode": {
     "languageId": "shellscript"
    }
   },
   "source": [
    "# Start the tracking server locally\n",
    "\n",
    "check pip location\n",
    "\n",
    "- which pip if not inside virtual environment.\n",
    "poetry\n",
    "- poetry env activate\n",
    "- copy and run the output \n",
    "- which pip \n",
    "- confirm and go on!\n",
    "\n",
    "mlflow server --host 127.0.0.1 --port 5050 --default-artifact-root ./mlruns"
   ]
  },
  {
   "cell_type": "code",
   "execution_count": 1,
   "metadata": {},
   "outputs": [],
   "source": [
    "from mlflow import MlflowClient\n",
    "from pprint import pprint"
   ]
  },
  {
   "cell_type": "code",
   "execution_count": 2,
   "metadata": {},
   "outputs": [],
   "source": [
    "client = MlflowClient(tracking_uri=\"http://127.0.0.1:5050\") "
   ]
  },
  {
   "cell_type": "code",
   "execution_count": 3,
   "metadata": {},
   "outputs": [
    {
     "name": "stdout",
     "output_type": "stream",
     "text": [
      "{'lifecycle_stage': 'active', 'name': 'Default'}\n"
     ]
    }
   ],
   "source": [
    "all_experiments = client.search_experiments()\n",
    "\n",
    "default_experiment = [\n",
    "    {\"name\": experiment.name, \"lifecycle_stage\": experiment.lifecycle_stage}\n",
    "    for experiment in all_experiments\n",
    "    if experiment.name == \"Default\"\n",
    "][0]\n",
    "\n",
    "pprint(default_experiment)"
   ]
  },
  {
   "cell_type": "markdown",
   "metadata": {},
   "source": [
    "## Default Experiment to replicate SotA model on conll2003\n",
    "\n",
    "- running one time is enough for creating one unique experiment."
   ]
  },
  {
   "cell_type": "code",
   "execution_count": null,
   "metadata": {},
   "outputs": [],
   "source": [
    "replication_description = \"Named Entitiy Recongition on conll2003 Takes in body of text and returns 4 types of NE(per, loc, org, misc) in the text.\"\n",
    "\n",
    "replication_experiment_tags = {\n",
    "    \"project_name\": \"Named Entity Recognition\",\n",
    "    \"context\": \"NER\",\n",
    "    \"mlflow.note.content\": replication_description\n",
    "}\n",
    "\n",
    "# replication_experiment = client.create_experiment(\n",
    "#     name=\"Sota NER on conll2003 Replication\",\n",
    "#     tags=replication_experiment_tags\n",
    "# )"
   ]
  },
  {
   "cell_type": "code",
   "execution_count": 6,
   "metadata": {},
   "outputs": [
    {
     "name": "stdout",
     "output_type": "stream",
     "text": [
      "{'_artifact_location': 'mlflow-artifacts:/307401685973690371',\n",
      " '_creation_time': 1740820146011,\n",
      " '_experiment_id': '307401685973690371',\n",
      " '_last_update_time': 1740820146011,\n",
      " '_lifecycle_stage': 'active',\n",
      " '_name': 'Sota NER on conll2003 Replication',\n",
      " '_tags': {'context': 'NER',\n",
      "           'mlflow.note.content': 'Named Entitiy Recongition on '\n",
      "                                  'conll2003.Takes in body of text and returns '\n",
      "                                  '4 types of NE(per, loc, org, misc) in the '\n",
      "                                  'text.',\n",
      "           'project_name': 'Named Entity Recognition'}}\n"
     ]
    }
   ],
   "source": [
    "# Use search_experiments() to search on the project_name tag key\n",
    "\n",
    "replication_experiment = client.search_experiments(\n",
    "    filter_string=\"tags.`project_name` = 'Named Entity Recognition'\"\n",
    ")\n",
    "\n",
    "pprint(vars(replication_experiment[0]))"
   ]
  }
 ],
 "metadata": {
  "kernelspec": {
   "display_name": "nlp-project-5JLUfMe5-py3.10",
   "language": "python",
   "name": "python3"
  },
  "language_info": {
   "codemirror_mode": {
    "name": "ipython",
    "version": 3
   },
   "file_extension": ".py",
   "mimetype": "text/x-python",
   "name": "python",
   "nbconvert_exporter": "python",
   "pygments_lexer": "ipython3",
   "version": "3.10.12"
  }
 },
 "nbformat": 4,
 "nbformat_minor": 2
}
