{
 "cells": [
  {
   "cell_type": "code",
   "execution_count": 2,
   "metadata": {},
   "outputs": [],
   "source": [
    "from time import time\n",
    "import pandas as pd\n",
    "from datasets import load_dataset\n",
    "\n",
    "# Use Flair Benchmark Model\n",
    "from flair.data import Sentence\n",
    "from flair.models import SequenceTagger"
   ]
  },
  {
   "cell_type": "code",
   "execution_count": 16,
   "metadata": {},
   "outputs": [],
   "source": [
    "# Test Load dataset\n",
    "# !python -c \"from datasets import load_dataset; print(load_dataset('rajpurkar/squad', split='train')[0])\""
   ]
  },
  {
   "cell_type": "code",
   "execution_count": 17,
   "metadata": {},
   "outputs": [],
   "source": [
    "# Load Conll2003 using datasets library\n",
    "conll_train_ds = load_dataset(\"Rosenberg/conll2003\", split=\"train\")\n",
    "conll_test_ds = load_dataset(\"Rosenberg/conll2003\", split=\"test\")\n",
    "conll_valid_ds = load_dataset(\"Rosenberg/conll2003\", split=\"validation\")\n",
    "\n",
    "# to Pandas DataFrame\n",
    "conll_train_ds.set_format(\"pandas\")\n",
    "conll_test_ds.set_format(\"pandas\")\n",
    "conll_valid_ds.set_format(\"pandas\")\n",
    "\n",
    "conll_train_raw = conll_train_ds[:]\n",
    "conll_test_raw = conll_test_ds[:]\n",
    "conll_valid_raw = conll_valid_ds[:]\n",
    "\n",
    "# Save to CSV\n",
    "conll_train_raw.to_csv(\"../data/original/conll_train.csv\", index=False)\n",
    "conll_test_raw.to_csv(\"../data/original/conll_test.csv\", index=False)\n",
    "conll_valid_raw.to_csv(\"../data/original/conll_valid.csv\", index=False)"
   ]
  },
  {
   "cell_type": "code",
   "execution_count": 18,
   "metadata": {},
   "outputs": [],
   "source": [
    "def load_conll_data(file_path):\n",
    "    sentences = []\n",
    "    sentence = []\n",
    "\n",
    "    with open(file_path, 'r', encoding='utf-8') as file:\n",
    "        for line in file:\n",
    "            line = line.strip()\n",
    "            if line:\n",
    "                if line.startswith(\"#\"):  # Ignore metadata\n",
    "                    continue\n",
    "                parts = line.split()\n",
    "                if len(parts) == 4:  # Ensure valid structure\n",
    "                    word, _, _, label = parts\n",
    "                    sentence.append((word, label))\n",
    "            else:\n",
    "                if sentence:\n",
    "                    sentences.append(sentence)\n",
    "                    sentence = []\n",
    "\n",
    "    if sentence:\n",
    "        sentences.append(sentence)  # Add last sentence if exists\n",
    "    return sentences\n",
    "\n",
    "# Load  dataset\n",
    "extended_conll = load_conll_data(\"../data/extended/en_train.conll\")"
   ]
  },
  {
   "cell_type": "code",
   "execution_count": null,
   "metadata": {},
   "outputs": [
    {
     "name": "stdout",
     "output_type": "stream",
     "text": [
      "[[('robert', 'B-OtherPER'), ('gottschalk', 'I-OtherPER'), ('1939', 'O'), ('academy', 'B-VisualWork'), ('award', 'I-VisualWork'), ('winner', 'O'), ('and', 'O'), ('founder', 'O'), ('of', 'O'), ('panavision', 'B-ORG')], [('during', 'O'), ('the', 'O'), ('reign', 'O'), ('of', 'O'), ('the', 'O'), ('tongzhi', 'B-OtherPER'), ('emperor', 'I-OtherPER'), ('(', 'O'), ('r', 'O'), ('.', 'O'), ('1861', 'O'), ('–', 'O'), ('1875', 'O'), (')', 'O'), (':', 'O')], [('further', 'O'), ('research', 'O'), ('led', 'O'), ('in', 'O'), ('the', 'O'), ('1960s', 'O'), ('to', 'O'), ('the', 'O'), ('bahadur', 'B-OtherPER'), ('representation', 'O'), ('which', 'O'), ('provides', 'O'), ('information', 'O'), ('about', 'O'), ('the', 'O'), ('errorbounds', 'O'), ('.', 'O')], [('the', 'O'), ('ideas', 'O'), ('were', 'O'), ('introduced', 'O'), ('by', 'O'), ('william', 'B-OtherPER'), ('burnside', 'I-OtherPER'), ('at', 'O'), ('the', 'O'), ('end', 'O'), ('of', 'O'), ('the', 'O'), ('nineteenth', 'O'), ('century', 'O'), ('.', 'O')], [('thaddeus', 'B-OtherPER'), ('mosley', 'I-OtherPER'), ('(', 'O'), ('a&s', 'O'), ('1950', 'O'), (')', 'O'), ('–', 'O'), ('sculptor', 'O'), ('who', 'O'), ('works', 'O'), ('mostly', 'O'), ('in', 'O'), ('wood', 'O')]]\n",
      "{'B-WrittenWork', 'I-Food', 'O', 'I-SportsManager', 'B-OtherPER', 'I-SportsGRP', 'I-VisualWork', 'I-Scientist', 'B-SportsManager', 'I-Cleric', 'B-VisualWork', 'I-OtherPROD', 'I-AnatomicalStructure', 'I-Athlete', 'I-Facility', 'B-ORG', 'B-Vehicle', 'I-Disease', 'I-Clothing', 'I-MusicalGRP', 'B-AerospaceManufacturer', 'B-PublicCorp', 'I-AerospaceManufacturer', 'B-Drink', 'B-Symptom', 'B-Scientist', 'B-MedicalProcedure', 'I-ArtWork', 'B-Medication/Vaccine', 'I-CarManufacturer', 'B-ArtWork', 'I-Symptom', 'B-SportsGRP', 'B-MusicalGRP', 'B-Artist', 'B-MusicalWork', 'I-HumanSettlement', 'I-OtherPER', 'I-OtherLOC', 'B-OtherPROD', 'I-Vehicle', 'I-MedicalProcedure', 'B-Disease', 'I-ORG', 'B-Food', 'B-Station', 'I-PrivateCorp', 'B-AnatomicalStructure', 'I-MusicalWork', 'B-HumanSettlement', 'B-Software', 'I-Drink', 'B-Clothing', 'B-PrivateCorp', 'B-CarManufacturer', 'B-Athlete', 'I-Station', 'B-OtherLOC', 'I-Politician', 'B-Politician', 'B-Facility', 'B-Cleric', 'I-Medication/Vaccine', 'I-WrittenWork', 'I-PublicCorp', 'I-Artist', 'I-Software'}\n"
     ]
    }
   ],
   "source": [
    "print(extended_conll[:5])\n",
    "\n",
    "#find unique labels\n",
    "unique_labels = set()\n",
    "for sentence in extended_conll:\n",
    "    for _, label in sentence:\n",
    "        unique_labels.add(label)\n",
    "\n",
    "print(unique_labels)"
   ]
  },
  {
   "cell_type": "code",
   "execution_count": 23,
   "metadata": {},
   "outputs": [
    {
     "data": {
      "application/vnd.jupyter.widget-view+json": {
       "model_id": "8db47e4ea5284cf8a6cd1d27961fea79",
       "version_major": 2,
       "version_minor": 0
      },
      "text/plain": [
       "pytorch_model.bin:   3%|2         | 62.9M/2.24G [00:00<?, ?B/s]"
      ]
     },
     "metadata": {},
     "output_type": "display_data"
    },
    {
     "data": {
      "application/vnd.jupyter.widget-view+json": {
       "model_id": "27cb889a7f414842886be8c1eea99b03",
       "version_major": 2,
       "version_minor": 0
      },
      "text/plain": [
       "tokenizer_config.json:   0%|          | 0.00/25.0 [00:00<?, ?B/s]"
      ]
     },
     "metadata": {},
     "output_type": "display_data"
    },
    {
     "data": {
      "application/vnd.jupyter.widget-view+json": {
       "model_id": "3b53f1e79cbd4b5292eb5004e20aa1ec",
       "version_major": 2,
       "version_minor": 0
      },
      "text/plain": [
       "config.json:   0%|          | 0.00/616 [00:00<?, ?B/s]"
      ]
     },
     "metadata": {},
     "output_type": "display_data"
    },
    {
     "data": {
      "application/vnd.jupyter.widget-view+json": {
       "model_id": "1c8ba44f148941babdb4a1854ed2a526",
       "version_major": 2,
       "version_minor": 0
      },
      "text/plain": [
       "sentencepiece.bpe.model:   0%|          | 0.00/5.07M [00:00<?, ?B/s]"
      ]
     },
     "metadata": {},
     "output_type": "display_data"
    },
    {
     "data": {
      "application/vnd.jupyter.widget-view+json": {
       "model_id": "c15609fad1b5477da6dbfdd0b6965cd6",
       "version_major": 2,
       "version_minor": 0
      },
      "text/plain": [
       "tokenizer.json:   0%|          | 0.00/9.10M [00:00<?, ?B/s]"
      ]
     },
     "metadata": {},
     "output_type": "display_data"
    },
    {
     "name": "stdout",
     "output_type": "stream",
     "text": [
      "2025-02-27 23:52:41,065 SequenceTagger predicts: Dictionary with 20 tags: <unk>, O, S-ORG, S-MISC, B-PER, E-PER, S-LOC, B-ORG, E-ORG, I-PER, S-PER, B-MISC, I-MISC, E-MISC, I-ORG, B-LOC, E-LOC, I-LOC, <START>, <STOP>\n",
      "Model loaded in 938.94 seconds\n"
     ]
    }
   ],
   "source": [
    "model_load_time = time()\n",
    "\n",
    "# Load the NER model\n",
    "tagger = SequenceTagger.load(\"flair/ner-english-large\")\n",
    "print(f\"Model loaded in {time() - model_load_time:.2f} seconds\")\n",
    "\n",
    "tagger.save(\"../models/ner-large.pt\")"
   ]
  },
  {
   "cell_type": "code",
   "execution_count": 29,
   "metadata": {},
   "outputs": [
    {
     "name": "stdout",
     "output_type": "stream",
     "text": [
      "2025-02-28 13:00:42,849 SequenceTagger predicts: Dictionary with 20 tags: <unk>, O, S-ORG, S-MISC, B-PER, E-PER, S-LOC, B-ORG, E-ORG, I-PER, S-PER, B-MISC, I-MISC, E-MISC, I-ORG, B-LOC, E-LOC, I-LOC, <START>, <STOP>\n",
      "Sentence[26]: \"Ko Khant and Winn is sad about Donald Trump and Elon's DOGE putting DEI operations to stop. They also stopped the operation of USAID\" → [\"Ko Khant and Winn\"/PER, \"Donald Trump\"/PER, \"Elon\"/PER, \"DOGE\"/ORG, \"DEI\"/ORG, \"USAID\"/ORG]\n"
     ]
    }
   ],
   "source": [
    "tagger = SequenceTagger.load(\"../models/ner-large.pt\")\n",
    "\n",
    "# Test the model\n",
    "sentence = Sentence(\"Ko Khant and Winn is sad about Donald Trump and Elon's DOGE putting DEI operations to stop. They also stopped the operation of USAID\")\n",
    "tagger.predict(sentence)\n",
    "print(sentence.to_tagged_string())\n"
   ]
  }
 ],
 "metadata": {
  "kernelspec": {
   "display_name": "nlp-project-5JLUfMe5-py3.10",
   "language": "python",
   "name": "python3"
  },
  "language_info": {
   "codemirror_mode": {
    "name": "ipython",
    "version": 3
   },
   "file_extension": ".py",
   "mimetype": "text/x-python",
   "name": "python",
   "nbconvert_exporter": "python",
   "pygments_lexer": "ipython3",
   "version": "3.10.12"
  }
 },
 "nbformat": 4,
 "nbformat_minor": 4
}
