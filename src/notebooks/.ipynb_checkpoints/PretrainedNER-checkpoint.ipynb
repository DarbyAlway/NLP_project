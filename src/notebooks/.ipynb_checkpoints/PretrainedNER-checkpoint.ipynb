{
 "cells": [
  {
   "cell_type": "code",
   "execution_count": 2,
   "metadata": {},
   "outputs": [],
   "source": [
    "import pandas as pd"
   ]
  },
  {
   "cell_type": "code",
   "execution_count": null,
   "metadata": {},
   "outputs": [],
   "source": [
    "# Test Load dataset\n",
    "!python -c \"from datasets import load_dataset; print(load_dataset('rajpurkar/squad', split='train')[0])\"\n"
   ]
  },
  {
   "cell_type": "code",
   "execution_count": 12,
   "metadata": {},
   "outputs": [],
   "source": [
    "def load_conll_data(file_path):\n",
    "    sentences = []\n",
    "    sentence = []\n",
    "\n",
    "    with open(file_path, 'r', encoding='utf-8') as file:\n",
    "        for line in file:\n",
    "            line = line.strip()\n",
    "            if line:\n",
    "                if line.startswith(\"#\"):  # Ignore metadata\n",
    "                    continue\n",
    "                parts = line.split()\n",
    "                if len(parts) == 4:  # Ensure valid structure\n",
    "                    word, _, _, label = parts\n",
    "                    sentence.append((word, label))\n",
    "            else:\n",
    "                if sentence:\n",
    "                    sentences.append(sentence)\n",
    "                    sentence = []\n",
    "\n",
    "    if sentence:\n",
    "        sentences.append(sentence)  # Add last sentence if exists\n",
    "    return sentences\n",
    "\n",
    "# Load  dataset\n",
    "extended_conll = load_conll_data(\"../data/extended/en_train.conll\")"
   ]
  },
  {
   "cell_type": "code",
   "execution_count": 13,
   "metadata": {},
   "outputs": [
    {
     "name": "stdout",
     "output_type": "stream",
     "text": [
      "[[('robert', 'B-OtherPER'), ('gottschalk', 'I-OtherPER'), ('1939', 'O'), ('academy', 'B-VisualWork'), ('award', 'I-VisualWork'), ('winner', 'O'), ('and', 'O'), ('founder', 'O'), ('of', 'O'), ('panavision', 'B-ORG')], [('during', 'O'), ('the', 'O'), ('reign', 'O'), ('of', 'O'), ('the', 'O'), ('tongzhi', 'B-OtherPER'), ('emperor', 'I-OtherPER'), ('(', 'O'), ('r', 'O'), ('.', 'O'), ('1861', 'O'), ('–', 'O'), ('1875', 'O'), (')', 'O'), (':', 'O')], [('further', 'O'), ('research', 'O'), ('led', 'O'), ('in', 'O'), ('the', 'O'), ('1960s', 'O'), ('to', 'O'), ('the', 'O'), ('bahadur', 'B-OtherPER'), ('representation', 'O'), ('which', 'O'), ('provides', 'O'), ('information', 'O'), ('about', 'O'), ('the', 'O'), ('errorbounds', 'O'), ('.', 'O')], [('the', 'O'), ('ideas', 'O'), ('were', 'O'), ('introduced', 'O'), ('by', 'O'), ('william', 'B-OtherPER'), ('burnside', 'I-OtherPER'), ('at', 'O'), ('the', 'O'), ('end', 'O'), ('of', 'O'), ('the', 'O'), ('nineteenth', 'O'), ('century', 'O'), ('.', 'O')], [('thaddeus', 'B-OtherPER'), ('mosley', 'I-OtherPER'), ('(', 'O'), ('a&s', 'O'), ('1950', 'O'), (')', 'O'), ('–', 'O'), ('sculptor', 'O'), ('who', 'O'), ('works', 'O'), ('mostly', 'O'), ('in', 'O'), ('wood', 'O')]]\n",
      "{'B-Clothing', 'B-MedicalProcedure', 'I-Cleric', 'B-ArtWork', 'B-Station', 'B-OtherLOC', 'B-Politician', 'B-Facility', 'B-Athlete', 'B-Disease', 'B-AnatomicalStructure', 'I-MusicalGRP', 'B-AerospaceManufacturer', 'B-ORG', 'B-SportsGRP', 'I-Medication/Vaccine', 'B-Food', 'B-Software', 'B-Symptom', 'I-Food', 'I-OtherPROD', 'I-Software', 'I-Athlete', 'B-SportsManager', 'I-Station', 'B-PrivateCorp', 'B-Scientist', 'I-Facility', 'I-SportsManager', 'I-Vehicle', 'B-VisualWork', 'I-ORG', 'I-AerospaceManufacturer', 'I-VisualWork', 'I-OtherLOC', 'B-Vehicle', 'I-Clothing', 'B-Medication/Vaccine', 'B-PublicCorp', 'B-CarManufacturer', 'B-Cleric', 'I-SportsGRP', 'I-OtherPER', 'I-Scientist', 'I-ArtWork', 'I-Disease', 'I-Symptom', 'B-Drink', 'I-WrittenWork', 'I-Artist', 'B-Artist', 'I-MusicalWork', 'O', 'B-OtherPROD', 'I-MedicalProcedure', 'B-WrittenWork', 'B-OtherPER', 'B-HumanSettlement', 'I-Drink', 'I-PrivateCorp', 'I-CarManufacturer', 'B-MusicalGRP', 'I-HumanSettlement', 'I-AnatomicalStructure', 'I-Politician', 'I-PublicCorp', 'B-MusicalWork'}\n"
     ]
    }
   ],
   "source": [
    "print(extended_conll[:5])\n",
    "\n",
    "#find unique labels\n",
    "unique_labels = set()\n",
    "for sentence in extended_conll:\n",
    "    for _, label in sentence:\n",
    "        unique_labels.add(label)\n",
    "\n",
    "print(unique_labels)"
   ]
  }
 ],
 "metadata": {
  "kernelspec": {
   "display_name": "nlp-project-5JLUfMe5-py3.10",
   "language": "python",
   "name": "python3"
  },
  "language_info": {
   "codemirror_mode": {
    "name": "ipython",
    "version": 3
   },
   "file_extension": ".py",
   "mimetype": "text/x-python",
   "name": "python",
   "nbconvert_exporter": "python",
   "pygments_lexer": "ipython3",
   "version": "3.10.12"
  }
 },
 "nbformat": 4,
 "nbformat_minor": 2
}
