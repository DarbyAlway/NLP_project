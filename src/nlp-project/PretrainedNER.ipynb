{
 "cells": [
  {
   "cell_type": "code",
   "execution_count": 1,
   "metadata": {},
   "outputs": [],
   "source": [
    "import pandas as pd\n",
    "from datasets import load_dataset"
   ]
  },
  {
   "cell_type": "code",
   "execution_count": null,
   "metadata": {},
   "outputs": [
    {
     "name": "stdout",
     "output_type": "stream",
     "text": [
      "{'id': '5733be284776f41900661182', 'title': 'University_of_Notre_Dame', 'context': 'Architecturally, the school has a Catholic character. Atop the Main Building\\'s gold dome is a golden statue of the Virgin Mary. Immediately in front of the Main Building and facing it, is a copper statue of Christ with arms upraised with the legend \"Venite Ad Me Omnes\". Next to the Main Building is the Basilica of the Sacred Heart. Immediately behind the basilica is the Grotto, a Marian place of prayer and reflection. It is a replica of the grotto at Lourdes, France where the Virgin Mary reputedly appeared to Saint Bernadette Soubirous in 1858. At the end of the main drive (and in a direct line that connects through 3 statues and the Gold Dome), is a simple, modern stone statue of Mary.', 'question': 'To whom did the Virgin Mary allegedly appear in 1858 in Lourdes France?', 'answers': {'text': ['Saint Bernadette Soubirous'], 'answer_start': [515]}}\n"
     ]
    }
   ],
   "source": [
    "# Test Load dataset\n",
    "# !python -c \"from datasets import load_dataset; print(load_dataset('rajpurkar/squad', split='train')[0])\""
   ]
  },
  {
   "cell_type": "code",
   "execution_count": null,
   "metadata": {},
   "outputs": [
    {
     "name": "stdout",
     "output_type": "stream",
     "text": [
      "                                                tags  \\\n",
      "0          [B-ORG, O, B-MISC, O, O, O, B-MISC, O, O]   \n",
      "1                                     [B-PER, I-PER]   \n",
      "2                                         [B-LOC, O]   \n",
      "3  [O, B-ORG, I-ORG, O, O, O, O, O, O, B-MISC, O,...   \n",
      "4  [B-LOC, O, O, O, O, B-ORG, I-ORG, O, O, O, B-P...   \n",
      "\n",
      "                                             rtokens  \\\n",
      "0                                 [Peter, Blackburn]   \n",
      "1                             [BRUSSELS, 1996-08-22]   \n",
      "2  [The, European, Commission, said, on, Thursday...   \n",
      "3  [Germany, 's, representative, to, the, Europea...   \n",
      "4  [\", We, do, n't, support, any, such, recommend...   \n",
      "\n",
      "                                                 pos  \\\n",
      "0              [NNP, VBZ, JJ, NN, TO, VB, JJ, NN, .]   \n",
      "1                                         [NNP, NNP]   \n",
      "2                                          [NNP, CD]   \n",
      "3  [DT, NNP, NNP, VBD, IN, NNP, PRP, VBD, IN, JJ,...   \n",
      "4  [NNP, POS, NN, TO, DT, NNP, NNP, POS, JJ, NN, ...   \n",
      "\n",
      "                                              tokens  \\\n",
      "0  [EU, rejects, German, call, to, boycott, Briti...   \n",
      "1                                 [Peter, Blackburn]   \n",
      "2                             [BRUSSELS, 1996-08-22]   \n",
      "3  [The, European, Commission, said, on, Thursday...   \n",
      "4  [Germany, 's, representative, to, the, Europea...   \n",
      "\n",
      "                                            entities  \\\n",
      "0  [{'end': 1, 'start': 0, 'type': 'org'}, {'end'...   \n",
      "1            [{'end': 1, 'start': 0, 'type': 'per'}]   \n",
      "2            [{'end': 1, 'start': 0, 'type': 'loc'}]   \n",
      "3  [{'end': 3, 'start': 1, 'type': 'org'}, {'end'...   \n",
      "4  [{'end': 1, 'start': 0, 'type': 'loc'}, {'end'...   \n",
      "\n",
      "                                             ltokens  \n",
      "0                                                 []  \n",
      "1  [EU, rejects, German, call, to, boycott, Briti...  \n",
      "2                                 [Peter, Blackburn]  \n",
      "3                             [BRUSSELS, 1996-08-22]  \n",
      "4  [The, European, Commission, said, on, Thursday...  \n",
      "                                                tags  \\\n",
      "0       [O, O, B-LOC, O, O, O, O, B-PER, O, O, O, O]   \n",
      "1                                     [B-PER, I-PER]   \n",
      "2                 [B-LOC, O, B-LOC, I-LOC, I-LOC, O]   \n",
      "3  [B-LOC, O, O, O, O, O, B-MISC, I-MISC, O, O, O...   \n",
      "4  [O, B-LOC, O, O, O, O, O, O, O, O, O, O, O, O,...   \n",
      "\n",
      "                                             rtokens  \\\n",
      "0                                     [Nadim, Ladki]   \n",
      "1    [AL-AIN, ,, United, Arab, Emirates, 1996-12-06]   \n",
      "2  [Japan, began, the, defence, of, their, Asian,...   \n",
      "3  [But, China, saw, their, luck, desert, them, i...   \n",
      "4  [China, controlled, most, of, the, match, and,...   \n",
      "\n",
      "                                                 pos  \\\n",
      "0  [NN, :, NNP, VB, NNP, NNP, ,, NNP, IN, DT, NN, .]   \n",
      "1                                         [NNP, NNP]   \n",
      "2                       [NNP, ,, NNP, NNP, NNPS, CD]   \n",
      "3  [NNP, VBD, DT, NN, IN, PRP$, JJ, NNP, NN, IN, ...   \n",
      "4  [CC, NNP, VBD, PRP$, NN, VB, PRP, IN, DT, NN, ...   \n",
      "\n",
      "                                              tokens  \\\n",
      "0  [SOCCER, -, JAPAN, GET, LUCKY, WIN, ,, CHINA, ...   \n",
      "1                                     [Nadim, Ladki]   \n",
      "2    [AL-AIN, ,, United, Arab, Emirates, 1996-12-06]   \n",
      "3  [Japan, began, the, defence, of, their, Asian,...   \n",
      "4  [But, China, saw, their, luck, desert, them, i...   \n",
      "\n",
      "                                            entities  \\\n",
      "0  [{'end': 3, 'start': 2, 'type': 'loc'}, {'end'...   \n",
      "1            [{'end': 1, 'start': 0, 'type': 'per'}]   \n",
      "2  [{'end': 1, 'start': 0, 'type': 'loc'}, {'end'...   \n",
      "3  [{'end': 1, 'start': 0, 'type': 'loc'}, {'end'...   \n",
      "4  [{'end': 2, 'start': 1, 'type': 'loc'}, {'end'...   \n",
      "\n",
      "                                             ltokens  \n",
      "0                                                 []  \n",
      "1  [SOCCER, -, JAPAN, GET, LUCKY, WIN, ,, CHINA, ...  \n",
      "2                                     [Nadim, Ladki]  \n",
      "3    [AL-AIN, ,, United, Arab, Emirates, 1996-12-06]  \n",
      "4  [Japan, began, the, defence, of, their, Asian,...  \n",
      "                                                tags  \\\n",
      "0              [O, O, B-ORG, O, O, O, O, O, O, O, O]   \n",
      "1                                         [B-LOC, O]   \n",
      "2  [B-MISC, I-MISC, O, B-PER, I-PER, O, O, O, O, ...   \n",
      "3  [O, O, O, O, O, O, O, O, O, O, O, O, O, B-ORG,...   \n",
      "4  [O, O, B-ORG, O, O, O, O, O, O, O, O, B-LOC, I...   \n",
      "\n",
      "                                             rtokens  \\\n",
      "0                               [LONDON, 1996-08-30]   \n",
      "1  [West, Indian, all-rounder, Phil, Simmons, too...   \n",
      "2  [Their, stay, on, top, ,, though, ,, may, be, ...   \n",
      "3  [After, bowling, Somerset, out, for, 83, on, t...   \n",
      "4  [Trailing, by, 213, ,, Somerset, got, a, solid...   \n",
      "\n",
      "                                                 pos  \\\n",
      "0  [NNP, :, NNP, NNP, IN, NNP, NNP, NNP, NNP, NN, .]   \n",
      "1                                          [NNP, CD]   \n",
      "2  [NNP, NNP, NN, NNP, NNP, VBD, CD, IN, CD, IN, ...   \n",
      "3  [PRP$, NN, IN, NN, ,, RB, ,, MD, VB, JJ, IN, N...   \n",
      "4  [IN, VBG, NNP, RP, IN, CD, IN, DT, NN, NN, IN,...   \n",
      "\n",
      "                                              tokens  \\\n",
      "0  [CRICKET, -, LEICESTERSHIRE, TAKE, OVER, AT, T...   \n",
      "1                               [LONDON, 1996-08-30]   \n",
      "2  [West, Indian, all-rounder, Phil, Simmons, too...   \n",
      "3  [Their, stay, on, top, ,, though, ,, may, be, ...   \n",
      "4  [After, bowling, Somerset, out, for, 83, on, t...   \n",
      "\n",
      "                                            entities  \\\n",
      "0            [{'end': 3, 'start': 2, 'type': 'org'}]   \n",
      "1            [{'end': 1, 'start': 0, 'type': 'loc'}]   \n",
      "2  [{'end': 2, 'start': 0, 'type': 'misc'}, {'end...   \n",
      "3  [{'end': 14, 'start': 13, 'type': 'org'}, {'en...   \n",
      "4  [{'end': 3, 'start': 2, 'type': 'org'}, {'end'...   \n",
      "\n",
      "                                             ltokens  \n",
      "0                                                 []  \n",
      "1  [CRICKET, -, LEICESTERSHIRE, TAKE, OVER, AT, T...  \n",
      "2                               [LONDON, 1996-08-30]  \n",
      "3  [West, Indian, all-rounder, Phil, Simmons, too...  \n",
      "4  [Their, stay, on, top, ,, though, ,, may, be, ...  \n"
     ]
    }
   ],
   "source": [
    "# Load Conll2003 using datasets library\n",
    "conll_train_ds = load_dataset(\"Rosenberg/conll2003\", split=\"train\")\n",
    "conll_test_ds = load_dataset(\"Rosenberg/conll2003\", split=\"test\")\n",
    "conll_valid_ds = load_dataset(\"Rosenberg/conll2003\", split=\"validation\")\n",
    "\n",
    "# to Pandas DataFrame\n",
    "conll_train_ds.set_format(\"pandas\")\n",
    "conll_test_ds.set_format(\"pandas\")\n",
    "conll_valid_ds.set_format(\"pandas\")\n",
    "\n",
    "conll_train_raw = conll_train_ds[:]\n",
    "conll_test_raw = conll_test_ds[:]\n",
    "conll_valid_raw = conll_valid_ds[:]\n",
    "\n",
    "# Save to CSV\n",
    "conll_train_raw.to_csv(\"data/original/conll_train.csv\", index=False)\n",
    "conll_test_raw.to_csv(\"data/original/conll_test.csv\", index=False)\n",
    "conll_valid_raw.to_csv(\"data/original/conll_valid.csv\", index=False)"
   ]
  },
  {
   "cell_type": "code",
   "execution_count": null,
   "metadata": {},
   "outputs": [
    {
     "ename": "AttributeError",
     "evalue": "'Dataset' object has no attribute 'head'",
     "output_type": "error",
     "traceback": [
      "\u001b[0;31m---------------------------------------------------------------------------\u001b[0m",
      "\u001b[0;31mAttributeError\u001b[0m                            Traceback (most recent call last)",
      "Cell \u001b[0;32mIn[7], line 1\u001b[0m\n\u001b[0;32m----> 1\u001b[0m \u001b[38;5;28mprint\u001b[39m(\u001b[43mconll_train\u001b[49m\u001b[38;5;241;43m.\u001b[39;49m\u001b[43mhead\u001b[49m())\n",
      "\u001b[0;31mAttributeError\u001b[0m: 'Dataset' object has no attribute 'head'"
     ]
    }
   ],
   "source": []
  },
  {
   "cell_type": "code",
   "execution_count": 5,
   "metadata": {},
   "outputs": [],
   "source": [
    "def load_conll_data(file_path):\n",
    "    sentences = []\n",
    "    sentence = []\n",
    "\n",
    "    with open(file_path, 'r', encoding='utf-8') as file:\n",
    "        for line in file:\n",
    "            line = line.strip()\n",
    "            if line:\n",
    "                if line.startswith(\"#\"):  # Ignore metadata\n",
    "                    continue\n",
    "                parts = line.split()\n",
    "                if len(parts) == 4:  # Ensure valid structure\n",
    "                    word, _, _, label = parts\n",
    "                    sentence.append((word, label))\n",
    "            else:\n",
    "                if sentence:\n",
    "                    sentences.append(sentence)\n",
    "                    sentence = []\n",
    "\n",
    "    if sentence:\n",
    "        sentences.append(sentence)  # Add last sentence if exists\n",
    "    return sentences\n",
    "\n",
    "# Load  dataset\n",
    "extended_conll = load_conll_data(\"../data/extended/en_train.conll\")"
   ]
  },
  {
   "cell_type": "code",
   "execution_count": 6,
   "metadata": {},
   "outputs": [
    {
     "name": "stdout",
     "output_type": "stream",
     "text": [
      "[[('robert', 'B-OtherPER'), ('gottschalk', 'I-OtherPER'), ('1939', 'O'), ('academy', 'B-VisualWork'), ('award', 'I-VisualWork'), ('winner', 'O'), ('and', 'O'), ('founder', 'O'), ('of', 'O'), ('panavision', 'B-ORG')], [('during', 'O'), ('the', 'O'), ('reign', 'O'), ('of', 'O'), ('the', 'O'), ('tongzhi', 'B-OtherPER'), ('emperor', 'I-OtherPER'), ('(', 'O'), ('r', 'O'), ('.', 'O'), ('1861', 'O'), ('–', 'O'), ('1875', 'O'), (')', 'O'), (':', 'O')], [('further', 'O'), ('research', 'O'), ('led', 'O'), ('in', 'O'), ('the', 'O'), ('1960s', 'O'), ('to', 'O'), ('the', 'O'), ('bahadur', 'B-OtherPER'), ('representation', 'O'), ('which', 'O'), ('provides', 'O'), ('information', 'O'), ('about', 'O'), ('the', 'O'), ('errorbounds', 'O'), ('.', 'O')], [('the', 'O'), ('ideas', 'O'), ('were', 'O'), ('introduced', 'O'), ('by', 'O'), ('william', 'B-OtherPER'), ('burnside', 'I-OtherPER'), ('at', 'O'), ('the', 'O'), ('end', 'O'), ('of', 'O'), ('the', 'O'), ('nineteenth', 'O'), ('century', 'O'), ('.', 'O')], [('thaddeus', 'B-OtherPER'), ('mosley', 'I-OtherPER'), ('(', 'O'), ('a&s', 'O'), ('1950', 'O'), (')', 'O'), ('–', 'O'), ('sculptor', 'O'), ('who', 'O'), ('works', 'O'), ('mostly', 'O'), ('in', 'O'), ('wood', 'O')]]\n",
      "{'B-WrittenWork', 'I-Food', 'O', 'I-SportsManager', 'B-OtherPER', 'I-SportsGRP', 'I-VisualWork', 'I-Scientist', 'B-SportsManager', 'I-Cleric', 'B-VisualWork', 'I-OtherPROD', 'I-AnatomicalStructure', 'I-Athlete', 'I-Facility', 'B-ORG', 'B-Vehicle', 'I-Disease', 'I-Clothing', 'I-MusicalGRP', 'B-AerospaceManufacturer', 'B-PublicCorp', 'I-AerospaceManufacturer', 'B-Drink', 'B-Symptom', 'B-Scientist', 'B-MedicalProcedure', 'I-ArtWork', 'B-Medication/Vaccine', 'I-CarManufacturer', 'B-ArtWork', 'I-Symptom', 'B-SportsGRP', 'B-MusicalGRP', 'B-Artist', 'B-MusicalWork', 'I-HumanSettlement', 'I-OtherPER', 'I-OtherLOC', 'B-OtherPROD', 'I-Vehicle', 'I-MedicalProcedure', 'B-Disease', 'I-ORG', 'B-Food', 'B-Station', 'I-PrivateCorp', 'B-AnatomicalStructure', 'I-MusicalWork', 'B-HumanSettlement', 'B-Software', 'I-Drink', 'B-Clothing', 'B-PrivateCorp', 'B-CarManufacturer', 'B-Athlete', 'I-Station', 'B-OtherLOC', 'I-Politician', 'B-Politician', 'B-Facility', 'B-Cleric', 'I-Medication/Vaccine', 'I-WrittenWork', 'I-PublicCorp', 'I-Artist', 'I-Software'}\n"
     ]
    }
   ],
   "source": [
    "print(extended_conll[:5])\n",
    "\n",
    "#find unique labels\n",
    "unique_labels = set()\n",
    "for sentence in extended_conll:\n",
    "    for _, label in sentence:\n",
    "        unique_labels.add(label)\n",
    "\n",
    "print(unique_labels)"
   ]
  },
  {
   "cell_type": "code",
   "execution_count": null,
   "metadata": {},
   "outputs": [],
   "source": []
  }
 ],
 "metadata": {
  "kernelspec": {
   "display_name": "nlp-project-5JLUfMe5-py3.10",
   "language": "python",
   "name": "python3"
  },
  "language_info": {
   "codemirror_mode": {
    "name": "ipython",
    "version": 3
   },
   "file_extension": ".py",
   "mimetype": "text/x-python",
   "name": "python",
   "nbconvert_exporter": "python",
   "pygments_lexer": "ipython3",
   "version": "3.10.12"
  }
 },
 "nbformat": 4,
 "nbformat_minor": 4
}
