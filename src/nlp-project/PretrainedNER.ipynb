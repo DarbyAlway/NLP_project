{
 "cells": [
  {
   "cell_type": "code",
   "execution_count": 2,
   "metadata": {},
   "outputs": [],
   "source": [
    "import pandas as pd"
   ]
  },
  {
   "cell_type": "code",
   "execution_count": 4,
   "metadata": {},
   "outputs": [
    {
     "name": "stdout",
     "output_type": "stream",
     "text": [
      "README.md: 100%|███████████████████████████| 7.62k/7.62k [00:00<00:00, 52.8MB/s]\n",
      "train-00000-of-00001.parquet: 100%|████████| 14.5M/14.5M [00:08<00:00, 1.70MB/s]\n",
      "validation-00000-of-00001.parquet: 100%|███| 1.82M/1.82M [00:00<00:00, 1.98MB/s]\n",
      "Generating train split: 100%|█| 87599/87599 [00:00<00:00, 1308357.35 examples/s]\n",
      "Generating validation split: 100%|█| 10570/10570 [00:00<00:00, 1097045.27 exampl\n",
      "{'id': '5733be284776f41900661182', 'title': 'University_of_Notre_Dame', 'context': 'Architecturally, the school has a Catholic character. Atop the Main Building\\'s gold dome is a golden statue of the Virgin Mary. Immediately in front of the Main Building and facing it, is a copper statue of Christ with arms upraised with the legend \"Venite Ad Me Omnes\". Next to the Main Building is the Basilica of the Sacred Heart. Immediately behind the basilica is the Grotto, a Marian place of prayer and reflection. It is a replica of the grotto at Lourdes, France where the Virgin Mary reputedly appeared to Saint Bernadette Soubirous in 1858. At the end of the main drive (and in a direct line that connects through 3 statues and the Gold Dome), is a simple, modern stone statue of Mary.', 'question': 'To whom did the Virgin Mary allegedly appear in 1858 in Lourdes France?', 'answers': {'text': ['Saint Bernadette Soubirous'], 'answer_start': [515]}}\n"
     ]
    }
   ],
   "source": [
    "!python -c \"from datasets import load_dataset; print(load_dataset('rajpurkar/squad', split='train')[0])\""
   ]
  },
  {
   "cell_type": "code",
   "execution_count": 6,
   "metadata": {},
   "outputs": [],
   "source": [
    "def load_conll_data(file_path):\n",
    "    sentences = []\n",
    "    sentence = []\n",
    "\n",
    "    with open(file_path, 'r', encoding='utf-8') as file:\n",
    "        for line in file:\n",
    "            line = line.strip()\n",
    "            if line:\n",
    "                if line.startswith(\"#\"):  # Ignore metadata\n",
    "                    continue\n",
    "                parts = line.split()\n",
    "                if len(parts) == 4:  # Ensure valid structure\n",
    "                    word, _, _, label = parts\n",
    "                    sentence.append((word, label))\n",
    "            else:\n",
    "                if sentence:\n",
    "                    sentences.append(sentence)\n",
    "                    sentence = []\n",
    "\n",
    "    if sentence:\n",
    "        sentences.append(sentence)  # Add last sentence if exists\n",
    "    return sentences\n",
    "\n",
    "# Load  dataset\n",
    "data = load_conll_data(\"../data/en_train.conll\")"
   ]
  },
  {
   "cell_type": "code",
   "execution_count": 7,
   "metadata": {},
   "outputs": [
    {
     "name": "stdout",
     "output_type": "stream",
     "text": [
      "[[('robert', 'B-OtherPER'), ('gottschalk', 'I-OtherPER'), ('1939', 'O'), ('academy', 'B-VisualWork'), ('award', 'I-VisualWork'), ('winner', 'O'), ('and', 'O'), ('founder', 'O'), ('of', 'O'), ('panavision', 'B-ORG')], [('during', 'O'), ('the', 'O'), ('reign', 'O'), ('of', 'O'), ('the', 'O'), ('tongzhi', 'B-OtherPER'), ('emperor', 'I-OtherPER'), ('(', 'O'), ('r', 'O'), ('.', 'O'), ('1861', 'O'), ('–', 'O'), ('1875', 'O'), (')', 'O'), (':', 'O')], [('further', 'O'), ('research', 'O'), ('led', 'O'), ('in', 'O'), ('the', 'O'), ('1960s', 'O'), ('to', 'O'), ('the', 'O'), ('bahadur', 'B-OtherPER'), ('representation', 'O'), ('which', 'O'), ('provides', 'O'), ('information', 'O'), ('about', 'O'), ('the', 'O'), ('errorbounds', 'O'), ('.', 'O')], [('the', 'O'), ('ideas', 'O'), ('were', 'O'), ('introduced', 'O'), ('by', 'O'), ('william', 'B-OtherPER'), ('burnside', 'I-OtherPER'), ('at', 'O'), ('the', 'O'), ('end', 'O'), ('of', 'O'), ('the', 'O'), ('nineteenth', 'O'), ('century', 'O'), ('.', 'O')], [('thaddeus', 'B-OtherPER'), ('mosley', 'I-OtherPER'), ('(', 'O'), ('a&s', 'O'), ('1950', 'O'), (')', 'O'), ('–', 'O'), ('sculptor', 'O'), ('who', 'O'), ('works', 'O'), ('mostly', 'O'), ('in', 'O'), ('wood', 'O')]]\n"
     ]
    }
   ],
   "source": [
    "print(data[:5])"
   ]
  }
 ],
 "metadata": {
  "kernelspec": {
   "display_name": "nlp-project-5JLUfMe5-py3.10",
   "language": "python",
   "name": "python3"
  },
  "language_info": {
   "codemirror_mode": {
    "name": "ipython",
    "version": 3
   },
   "file_extension": ".py",
   "mimetype": "text/x-python",
   "name": "python",
   "nbconvert_exporter": "python",
   "pygments_lexer": "ipython3",
   "version": "3.10.12"
  }
 },
 "nbformat": 4,
 "nbformat_minor": 2
}
